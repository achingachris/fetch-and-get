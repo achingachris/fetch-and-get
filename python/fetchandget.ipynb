{
 "cells": [
  {
   "cell_type": "code",
   "execution_count": 1,
   "metadata": {},
   "outputs": [
    {
     "name": "stdout",
     "output_type": "stream",
     "text": [
      "Requirement already satisfied: requests in ./lib/python3.9/site-packages (2.31.0)\n",
      "Requirement already satisfied: charset-normalizer<4,>=2 in ./lib/python3.9/site-packages (from requests) (3.3.2)\n",
      "Requirement already satisfied: idna<4,>=2.5 in ./lib/python3.9/site-packages (from requests) (3.6)\n",
      "Requirement already satisfied: urllib3<3,>=1.21.1 in ./lib/python3.9/site-packages (from requests) (2.1.0)\n",
      "Requirement already satisfied: certifi>=2017.4.17 in ./lib/python3.9/site-packages (from requests) (2023.11.17)\n",
      "Note: you may need to restart the kernel to use updated packages.\n"
     ]
    }
   ],
   "source": [
    "%pip install requests"
   ]
  },
  {
   "cell_type": "code",
   "execution_count": 2,
   "metadata": {},
   "outputs": [
    {
     "name": "stderr",
     "output_type": "stream",
     "text": [
      "/Users/chrisachinga/dev/fetch-and-get/python/lib/python3.9/site-packages/urllib3/__init__.py:34: NotOpenSSLWarning: urllib3 v2 only supports OpenSSL 1.1.1+, currently the 'ssl' module is compiled with 'LibreSSL 2.8.3'. See: https://github.com/urllib3/urllib3/issues/3020\n",
      "  warnings.warn(\n"
     ]
    }
   ],
   "source": [
    "import requests\n"
   ]
  },
  {
   "cell_type": "code",
   "execution_count": 3,
   "metadata": {},
   "outputs": [],
   "source": [
    "api_url = \"http://localhost:8000/marvelstars\""
   ]
  },
  {
   "cell_type": "code",
   "execution_count": 4,
   "metadata": {},
   "outputs": [
    {
     "name": "stdout",
     "output_type": "stream",
     "text": [
      "<Response [200]>\n",
      "[{'id': 1, 'rating': 9, 'name': 'Tony Stark', 'stagename': 'Ironman', 'powers': 'Upgraded powered armor with new features and enhancements.'}, {'id': 3, 'rating': 8, 'name': 'Natasha Romanoff', 'stagename': 'Black Widow', 'powers': 'Expert martial artist, marksmanship, and hand-to-hand combat. Skilled spy and master of espionage.'}, {'id': 11, 'rating': 9, 'name': 'Diana Prince', 'stagename': 'Wonder Woman', 'powers': 'Superhuman strength, agility, and durability. Wields the Lasso of Truth and indestructible bracelets.'}, {'id': 18, 'rating': 9, 'name': 'Diana Prince', 'stagename': 'Wonder Woman', 'powers': 'Superhuman strength, agility, and durability. Wields the Lasso of Truth and indestructible bracelets.'}, {'id': 21, 'rating': 8, 'name': 'Maxwell Jordan', 'stagename': 'Green Lightning', 'powers': 'Control over electricity, super speed, and flight.'}, {'id': 22, 'rating': 7, 'name': 'Sarah Knight', 'stagename': 'Shadow Panther', 'powers': 'Enhanced agility, night vision, and stealth capabilities.'}, {'id': 23, 'rating': 8, 'name': 'Alex Summers', 'stagename': 'Solar Flare', 'powers': 'Ability to absorb and project solar energy.'}, {'id': 24, 'rating': 9, 'name': 'Lily Huang', 'stagename': 'Mystic Dragon', 'powers': 'Dragon-like abilities, fire breath, flight, and super strength.'}, {'id': 25, 'rating': 7, 'name': 'Marcus Stone', 'stagename': 'Terra Firma', 'powers': 'Earth manipulation and super durability.'}, {'id': 26, 'rating': 8, 'name': 'Emily Frost', 'stagename': 'Ice Queen', 'powers': 'Ice manipulation and creation, cold resistance.'}, {'id': 27, 'rating': 7, 'name': 'Kevin Blaze', 'stagename': 'Inferno', 'powers': 'Fire manipulation and heat resistance.'}, {'id': 28, 'rating': 9, 'name': 'Zoe Lightwood', 'stagename': 'Starlight', 'powers': 'Light manipulation, energy projection, and flight.'}, {'id': 29, 'rating': 8, 'name': 'Jason Pierce', 'stagename': 'Steel Hawk', 'powers': 'Mechanical wings for flight, enhanced vision, and metal manipulation.'}, {'id': 30, 'rating': 9, 'name': 'Laura Grey', 'stagename': 'Quantum', 'powers': 'Teleportation, time manipulation.'}, {'id': 31, 'rating': 7, 'name': 'Aaron Fox', 'stagename': 'Wild Spirit', 'powers': 'Animal communication, shape-shifting into animals.'}, {'id': 32, 'rating': 8, 'name': 'Nina Santos', 'stagename': 'Thunderbird', 'powers': 'Weather manipulation, flight, electrical generation.'}, {'id': 33, 'rating': 8, 'name': 'Kyle Rhodes', 'stagename': 'Phantom Walker', 'powers': 'Intangibility, invisibility, and spectral movement.'}, {'id': 34, 'rating': 7, 'name': 'Amber Lee', 'stagename': 'Crimson Archer', 'powers': 'Master archer with enhanced reflexes and agility.'}, {'id': 35, 'rating': 8, 'name': 'Felix Grant', 'stagename': 'Nightblade', 'powers': 'Master swordsman, enhanced senses, and shadow manipulation.'}]\n"
     ]
    }
   ],
   "source": [
    "response = requests.get(api_url)\n",
    "print(response) # prints the status code\n",
    "print(response.json()) # prints the api response data"
   ]
  },
  {
   "cell_type": "code",
   "execution_count": 5,
   "metadata": {},
   "outputs": [
    {
     "name": "stdout",
     "output_type": "stream",
     "text": [
      "Fetched Marvel Stars:\n",
      "{'id': 1, 'rating': 9, 'name': 'Tony Stark', 'stagename': 'Ironman', 'powers': 'Upgraded powered armor with new features and enhancements.'}\n",
      "{'id': 3, 'rating': 8, 'name': 'Natasha Romanoff', 'stagename': 'Black Widow', 'powers': 'Expert martial artist, marksmanship, and hand-to-hand combat. Skilled spy and master of espionage.'}\n",
      "{'id': 11, 'rating': 9, 'name': 'Diana Prince', 'stagename': 'Wonder Woman', 'powers': 'Superhuman strength, agility, and durability. Wields the Lasso of Truth and indestructible bracelets.'}\n",
      "{'id': 18, 'rating': 9, 'name': 'Diana Prince', 'stagename': 'Wonder Woman', 'powers': 'Superhuman strength, agility, and durability. Wields the Lasso of Truth and indestructible bracelets.'}\n",
      "{'id': 21, 'rating': 8, 'name': 'Maxwell Jordan', 'stagename': 'Green Lightning', 'powers': 'Control over electricity, super speed, and flight.'}\n",
      "{'id': 22, 'rating': 7, 'name': 'Sarah Knight', 'stagename': 'Shadow Panther', 'powers': 'Enhanced agility, night vision, and stealth capabilities.'}\n",
      "{'id': 23, 'rating': 8, 'name': 'Alex Summers', 'stagename': 'Solar Flare', 'powers': 'Ability to absorb and project solar energy.'}\n",
      "{'id': 24, 'rating': 9, 'name': 'Lily Huang', 'stagename': 'Mystic Dragon', 'powers': 'Dragon-like abilities, fire breath, flight, and super strength.'}\n",
      "{'id': 25, 'rating': 7, 'name': 'Marcus Stone', 'stagename': 'Terra Firma', 'powers': 'Earth manipulation and super durability.'}\n",
      "{'id': 26, 'rating': 8, 'name': 'Emily Frost', 'stagename': 'Ice Queen', 'powers': 'Ice manipulation and creation, cold resistance.'}\n",
      "{'id': 27, 'rating': 7, 'name': 'Kevin Blaze', 'stagename': 'Inferno', 'powers': 'Fire manipulation and heat resistance.'}\n",
      "{'id': 28, 'rating': 9, 'name': 'Zoe Lightwood', 'stagename': 'Starlight', 'powers': 'Light manipulation, energy projection, and flight.'}\n",
      "{'id': 29, 'rating': 8, 'name': 'Jason Pierce', 'stagename': 'Steel Hawk', 'powers': 'Mechanical wings for flight, enhanced vision, and metal manipulation.'}\n",
      "{'id': 30, 'rating': 9, 'name': 'Laura Grey', 'stagename': 'Quantum', 'powers': 'Teleportation, time manipulation.'}\n",
      "{'id': 31, 'rating': 7, 'name': 'Aaron Fox', 'stagename': 'Wild Spirit', 'powers': 'Animal communication, shape-shifting into animals.'}\n",
      "{'id': 32, 'rating': 8, 'name': 'Nina Santos', 'stagename': 'Thunderbird', 'powers': 'Weather manipulation, flight, electrical generation.'}\n",
      "{'id': 33, 'rating': 8, 'name': 'Kyle Rhodes', 'stagename': 'Phantom Walker', 'powers': 'Intangibility, invisibility, and spectral movement.'}\n",
      "{'id': 34, 'rating': 7, 'name': 'Amber Lee', 'stagename': 'Crimson Archer', 'powers': 'Master archer with enhanced reflexes and agility.'}\n",
      "{'id': 35, 'rating': 8, 'name': 'Felix Grant', 'stagename': 'Nightblade', 'powers': 'Master swordsman, enhanced senses, and shadow manipulation.'}\n"
     ]
    }
   ],
   "source": [
    "if response.status_code == 200:\n",
    "    marvelstars = response.json()\n",
    "    print(\"Fetched Marvel Stars:\")\n",
    "    for star in marvelstars:\n",
    "        print(star)\n",
    "else:\n",
    "    print(f\"Failed to fetch data. Status code: {response.status_code}\")"
   ]
  },
  {
   "cell_type": "code",
   "execution_count": 6,
   "metadata": {},
   "outputs": [
    {
     "name": "stdout",
     "output_type": "stream",
     "text": [
      "Failed to add new Marvel Star. Status code: 500\n"
     ]
    }
   ],
   "source": [
    "# Add a new Marvel star (POST request)\n",
    "new_star = {\n",
    "    \"id\": 11,\n",
    "    \"rating\": 9,\n",
    "    \"name\": \"Diana Prince\",\n",
    "    \"stagename\": \"Wonder Woman\",\n",
    "    \"powers\": \"Superhuman strength, agility, and durability. Wields the Lasso of Truth and indestructible bracelets.\"\n",
    "}\n",
    "\n",
    "response = requests.post(api_url, json=new_star)\n",
    "if response.status_code == 201:\n",
    "    print(\"New Marvel Star added successfully.\")\n",
    "else:\n",
    "    print(f\"Failed to add new Marvel Star. Status code: {response.status_code}\")\n"
   ]
  },
  {
   "cell_type": "code",
   "execution_count": 7,
   "metadata": {},
   "outputs": [
    {
     "name": "stdout",
     "output_type": "stream",
     "text": [
      "Marvel Star updated successfully.\n"
     ]
    }
   ],
   "source": [
    "# Edit an existing Marvel star (PUT request)\n",
    "updated_star = {\n",
    "    \"id\": 1,\n",
    "    \"rating\": 10,\n",
    "    \"name\": \"Tony Stark\",\n",
    "    \"stagename\": \"Ironman\",\n",
    "    \"powers\": \"Upgraded powered armor with new features and enhancements.\"\n",
    "}\n",
    "\n",
    "response = requests.put(api_url + \"/1\", json=updated_star)\n",
    "if response.status_code == 200:\n",
    "    print(\"Marvel Star updated successfully.\")\n",
    "else:\n",
    "    print(f\"Failed to update Marvel Star. Status code: {response.status_code}\")\n"
   ]
  },
  {
   "cell_type": "code",
   "execution_count": 8,
   "metadata": {},
   "outputs": [
    {
     "name": "stdout",
     "output_type": "stream",
     "text": [
      "Marvel Star with ID 11 deleted successfully.\n"
     ]
    }
   ],
   "source": [
    "# Delete a Marvel star by ID (DELETE request)\n",
    "star_id_to_delete = 11\n",
    "response = requests.delete(f\"{api_url}/{star_id_to_delete}\")\n",
    "if response.status_code == 200:\n",
    "    print(f\"Marvel Star with ID {star_id_to_delete} deleted successfully.\")\n",
    "else:\n",
    "    print(f\"Failed to delete Marvel Star by ID. Status code: {response.status_code}\")"
   ]
  }
 ],
 "metadata": {
  "kernelspec": {
   "display_name": "python",
   "language": "python",
   "name": "python3"
  },
  "language_info": {
   "codemirror_mode": {
    "name": "ipython",
    "version": 3
   },
   "file_extension": ".py",
   "mimetype": "text/x-python",
   "name": "python",
   "nbconvert_exporter": "python",
   "pygments_lexer": "ipython3",
   "version": "3.9.6"
  }
 },
 "nbformat": 4,
 "nbformat_minor": 2
}
