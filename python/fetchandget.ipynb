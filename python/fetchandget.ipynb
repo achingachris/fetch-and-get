{
 "cells": [
  {
   "cell_type": "code",
   "execution_count": 2,
   "metadata": {},
   "outputs": [
    {
     "name": "stdout",
     "output_type": "stream",
     "text": [
      "Collecting requests\n",
      "  Using cached requests-2.31.0-py3-none-any.whl.metadata (4.6 kB)\n",
      "Collecting charset-normalizer<4,>=2 (from requests)\n",
      "  Downloading charset_normalizer-3.3.2-cp39-cp39-macosx_11_0_arm64.whl.metadata (33 kB)\n",
      "Collecting idna<4,>=2.5 (from requests)\n",
      "  Downloading idna-3.6-py3-none-any.whl.metadata (9.9 kB)\n",
      "Collecting urllib3<3,>=1.21.1 (from requests)\n",
      "  Using cached urllib3-2.1.0-py3-none-any.whl.metadata (6.4 kB)\n",
      "Collecting certifi>=2017.4.17 (from requests)\n",
      "  Downloading certifi-2023.11.17-py3-none-any.whl.metadata (2.2 kB)\n",
      "Using cached requests-2.31.0-py3-none-any.whl (62 kB)\n",
      "Downloading certifi-2023.11.17-py3-none-any.whl (162 kB)\n",
      "\u001b[2K   \u001b[38;2;114;156;31m━━━━━━━━━━━━━━━━━━━━━━━━━━━━━━━━━━━━━━━━\u001b[0m \u001b[32m162.5/162.5 kB\u001b[0m \u001b[31m1.6 MB/s\u001b[0m eta \u001b[36m0:00:00\u001b[0m[31m1.4 MB/s\u001b[0m eta \u001b[36m0:00:01\u001b[0m\n",
      "\u001b[?25hDownloading charset_normalizer-3.3.2-cp39-cp39-macosx_11_0_arm64.whl (120 kB)\n",
      "\u001b[2K   \u001b[38;2;114;156;31m━━━━━━━━━━━━━━━━━━━━━━━━━━━━━━━━━━━━━━━━\u001b[0m \u001b[32m120.4/120.4 kB\u001b[0m \u001b[31m5.6 MB/s\u001b[0m eta \u001b[36m0:00:00\u001b[0m\n",
      "\u001b[?25hDownloading idna-3.6-py3-none-any.whl (61 kB)\n",
      "\u001b[2K   \u001b[38;2;114;156;31m━━━━━━━━━━━━━━━━━━━━━━━━━━━━━━━━━━━━━━━━\u001b[0m \u001b[32m61.6/61.6 kB\u001b[0m \u001b[31m5.6 MB/s\u001b[0m eta \u001b[36m0:00:00\u001b[0m\n",
      "\u001b[?25hUsing cached urllib3-2.1.0-py3-none-any.whl (104 kB)\n",
      "Installing collected packages: urllib3, idna, charset-normalizer, certifi, requests\n",
      "Successfully installed certifi-2023.11.17 charset-normalizer-3.3.2 idna-3.6 requests-2.31.0 urllib3-2.1.0\n",
      "Note: you may need to restart the kernel to use updated packages.\n"
     ]
    }
   ],
   "source": [
    "%pip install requests"
   ]
  },
  {
   "cell_type": "code",
   "execution_count": 7,
   "metadata": {},
   "outputs": [],
   "source": [
    "import requests\n"
   ]
  },
  {
   "cell_type": "code",
   "execution_count": 10,
   "metadata": {},
   "outputs": [],
   "source": [
    "api_url = \"http://localhost:8000/marvelstars\""
   ]
  },
  {
   "cell_type": "code",
   "execution_count": 12,
   "metadata": {},
   "outputs": [
    {
     "name": "stdout",
     "output_type": "stream",
     "text": [
      "<Response [200]>\n",
      "[{'id': 1, 'rating': 10, 'name': 'Tony Stark', 'stagename': 'Ironman', 'powers': 'Iron Man possesses powered armor that gives him superhuman strength and durability, flight, and an array of weapons'}, {'id': 2, 'rating': 9, 'name': 'Steve Rogers', 'stagename': 'Captain America', 'powers': 'Superhuman strength, agility, and endurance due to the Super-Soldier Serum. Skilled martial artist and expert with the vibranium shield.'}, {'id': 3, 'rating': 8, 'name': 'Natasha Romanoff', 'stagename': 'Black Widow', 'powers': 'Expert martial artist, marksmanship, and hand-to-hand combat. Skilled spy and master of espionage.'}]\n"
     ]
    }
   ],
   "source": [
    "response = requests.get(api_url)\n",
    "print(response) # prints the status code\n",
    "print(response.json()) # prints the api response data"
   ]
  },
  {
   "cell_type": "code",
   "execution_count": 13,
   "metadata": {},
   "outputs": [
    {
     "name": "stdout",
     "output_type": "stream",
     "text": [
      "Fetched Marvel Stars:\n",
      "{'id': 1, 'rating': 10, 'name': 'Tony Stark', 'stagename': 'Ironman', 'powers': 'Iron Man possesses powered armor that gives him superhuman strength and durability, flight, and an array of weapons'}\n",
      "{'id': 2, 'rating': 9, 'name': 'Steve Rogers', 'stagename': 'Captain America', 'powers': 'Superhuman strength, agility, and endurance due to the Super-Soldier Serum. Skilled martial artist and expert with the vibranium shield.'}\n",
      "{'id': 3, 'rating': 8, 'name': 'Natasha Romanoff', 'stagename': 'Black Widow', 'powers': 'Expert martial artist, marksmanship, and hand-to-hand combat. Skilled spy and master of espionage.'}\n"
     ]
    }
   ],
   "source": [
    "if response.status_code == 200:\n",
    "    marvelstars = response.json()\n",
    "    print(\"Fetched Marvel Stars:\")\n",
    "    for star in marvelstars:\n",
    "        print(star)\n",
    "else:\n",
    "    print(f\"Failed to fetch data. Status code: {response.status_code}\")"
   ]
  },
  {
   "cell_type": "code",
   "execution_count": 14,
   "metadata": {},
   "outputs": [
    {
     "name": "stdout",
     "output_type": "stream",
     "text": [
      "New Marvel Star added successfully.\n"
     ]
    }
   ],
   "source": [
    "# Add a new Marvel star (POST request)\n",
    "new_star = {\n",
    "    \"id\": 11,\n",
    "    \"rating\": 9,\n",
    "    \"name\": \"Diana Prince\",\n",
    "    \"stagename\": \"Wonder Woman\",\n",
    "    \"powers\": \"Superhuman strength, agility, and durability. Wields the Lasso of Truth and indestructible bracelets.\"\n",
    "}\n",
    "\n",
    "response = requests.post(api_url, json=new_star)\n",
    "if response.status_code == 201:\n",
    "    print(\"New Marvel Star added successfully.\")\n",
    "else:\n",
    "    print(f\"Failed to add new Marvel Star. Status code: {response.status_code}\")\n"
   ]
  },
  {
   "cell_type": "code",
   "execution_count": 16,
   "metadata": {},
   "outputs": [
    {
     "name": "stdout",
     "output_type": "stream",
     "text": [
      "Marvel Star updated successfully.\n"
     ]
    }
   ],
   "source": [
    "# Edit an existing Marvel star (PUT request)\n",
    "updated_star = {\n",
    "    \"id\": 1,\n",
    "    \"rating\": 10,\n",
    "    \"name\": \"Tony Stark\",\n",
    "    \"stagename\": \"Ironman\",\n",
    "    \"powers\": \"Upgraded powered armor with new features and enhancements.\"\n",
    "}\n",
    "\n",
    "response = requests.put(api_url + \"/1\", json=updated_star)\n",
    "if response.status_code == 200:\n",
    "    print(\"Marvel Star updated successfully.\")\n",
    "else:\n",
    "    print(f\"Failed to update Marvel Star. Status code: {response.status_code}\")\n"
   ]
  },
  {
   "cell_type": "code",
   "execution_count": 17,
   "metadata": {},
   "outputs": [
    {
     "name": "stdout",
     "output_type": "stream",
     "text": [
      "Marvel Star with ID 11 deleted successfully.\n"
     ]
    }
   ],
   "source": [
    "# Delete a Marvel star by ID (DELETE request)\n",
    "star_id_to_delete = 11\n",
    "response = requests.delete(f\"{api_url}/{star_id_to_delete}\")\n",
    "if response.status_code == 200:\n",
    "    print(f\"Marvel Star with ID {star_id_to_delete} deleted successfully.\")\n",
    "else:\n",
    "    print(f\"Failed to delete Marvel Star by ID. Status code: {response.status_code}\")"
   ]
  }
 ],
 "metadata": {
  "kernelspec": {
   "display_name": "python",
   "language": "python",
   "name": "python3"
  },
  "language_info": {
   "codemirror_mode": {
    "name": "ipython",
    "version": 3
   },
   "file_extension": ".py",
   "mimetype": "text/x-python",
   "name": "python",
   "nbconvert_exporter": "python",
   "pygments_lexer": "ipython3",
   "version": "3.9.6"
  }
 },
 "nbformat": 4,
 "nbformat_minor": 2
}
