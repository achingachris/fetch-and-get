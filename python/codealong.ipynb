{
 "cells": [
  {
   "cell_type": "code",
   "execution_count": 1,
   "metadata": {},
   "outputs": [
    {
     "name": "stdout",
     "output_type": "stream",
     "text": [
      "Requirement already satisfied: requests in ./lib/python3.9/site-packages (2.31.0)\n",
      "Requirement already satisfied: charset-normalizer<4,>=2 in ./lib/python3.9/site-packages (from requests) (3.3.2)\n",
      "Requirement already satisfied: idna<4,>=2.5 in ./lib/python3.9/site-packages (from requests) (3.6)\n",
      "Requirement already satisfied: urllib3<3,>=1.21.1 in ./lib/python3.9/site-packages (from requests) (2.1.0)\n",
      "Requirement already satisfied: certifi>=2017.4.17 in ./lib/python3.9/site-packages (from requests) (2023.11.17)\n",
      "Note: you may need to restart the kernel to use updated packages.\n"
     ]
    }
   ],
   "source": [
    "%pip install requests"
   ]
  },
  {
   "cell_type": "code",
   "execution_count": 13,
   "metadata": {},
   "outputs": [],
   "source": [
    "import requests\n",
    "\n",
    "api_url = \"http://localhost:8000/marvelstars\""
   ]
  },
  {
   "cell_type": "code",
   "execution_count": 17,
   "metadata": {},
   "outputs": [
    {
     "name": "stdout",
     "output_type": "stream",
     "text": [
      "<Response [200]>\n",
      "[{'id': 1, 'rating': 10, 'name': 'Tony Stark', 'stagename': 'Ironman', 'powers': 'Upgraded powered armor with new features and enhancements.'}, {'id': 3, 'rating': 8, 'name': 'Natasha Romanoff', 'stagename': 'Black Widow', 'powers': 'Expert martial artist, marksmanship, and hand-to-hand combat. Skilled spy and master of espionage.'}, {'id': 18, 'rating': 9, 'name': 'Diana Prince', 'stagename': 'Wonder Woman', 'powers': 'Superhuman strength, agility, and durability. Wields the Lasso of Truth and indestructible bracelets.'}, {'id': 21, 'rating': 8, 'name': 'Maxwell Jordan', 'stagename': 'Green Lightning', 'powers': 'Control over electricity, super speed, and flight.'}, {'id': 22, 'rating': 7, 'name': 'Sarah Knight', 'stagename': 'Shadow Panther', 'powers': 'Enhanced agility, night vision, and stealth capabilities.'}, {'id': 23, 'rating': 8, 'name': 'Alex Summers', 'stagename': 'Solar Flare', 'powers': 'Ability to absorb and project solar energy.'}, {'id': 24, 'rating': 9, 'name': 'Lily Huang', 'stagename': 'Mystic Dragon', 'powers': 'Dragon-like abilities, fire breath, flight, and super strength.'}, {'id': 25, 'rating': 7, 'name': 'Marcus Stone', 'stagename': 'Terra Firma', 'powers': 'Earth manipulation and super durability.'}, {'id': 26, 'rating': 8, 'name': 'Emily Frost', 'stagename': 'Ice Queen', 'powers': 'Ice manipulation and creation, cold resistance.'}, {'id': 27, 'rating': 7, 'name': 'Kevin Blaze', 'stagename': 'Inferno', 'powers': 'Fire manipulation and heat resistance.'}, {'id': 28, 'rating': 9, 'name': 'Zoe Lightwood', 'stagename': 'Starlight', 'powers': 'Light manipulation, energy projection, and flight.'}, {'id': 29, 'rating': 8, 'name': 'Jason Pierce', 'stagename': 'Steel Hawk', 'powers': 'Mechanical wings for flight, enhanced vision, and metal manipulation.'}, {'id': 30, 'rating': 9, 'name': 'Laura Grey', 'stagename': 'Quantum', 'powers': 'Teleportation, time manipulation.'}, {'id': 31, 'rating': 7, 'name': 'Aaron Fox', 'stagename': 'Wild Spirit', 'powers': 'Animal communication, shape-shifting into animals.'}, {'id': 32, 'rating': 8, 'name': 'Nina Santos', 'stagename': 'Thunderbird', 'powers': 'Weather manipulation, flight, electrical generation.'}, {'id': 33, 'rating': 8, 'name': 'Kyle Rhodes', 'stagename': 'Phantom Walker', 'powers': 'Intangibility, invisibility, and spectral movement.'}, {'id': 34, 'rating': 7, 'name': 'Amber Lee', 'stagename': 'Crimson Archer', 'powers': 'Master archer with enhanced reflexes and agility.'}, {'id': 35, 'rating': 8, 'name': 'Felix Grant', 'stagename': 'Nightblade', 'powers': 'Master swordsman, enhanced senses, and shadow manipulation.'}, {'id': 36}, {'id': 89, 'rating': 10, 'name': 'Joy Ngugi', 'stagename': 'Iron Lady', 'powers': 'She is cool, she can iron'}]\n"
     ]
    }
   ],
   "source": [
    "response = requests.get(api_url)\n",
    "print(response)\n",
    "print(response.json())"
   ]
  },
  {
   "cell_type": "code",
   "execution_count": 18,
   "metadata": {},
   "outputs": [
    {
     "name": "stdout",
     "output_type": "stream",
     "text": [
      "Fetched Marvel Stars:\n",
      "{'id': 1, 'rating': 10, 'name': 'Tony Stark', 'stagename': 'Ironman', 'powers': 'Upgraded powered armor with new features and enhancements.'}\n",
      "{'id': 3, 'rating': 8, 'name': 'Natasha Romanoff', 'stagename': 'Black Widow', 'powers': 'Expert martial artist, marksmanship, and hand-to-hand combat. Skilled spy and master of espionage.'}\n",
      "{'id': 18, 'rating': 9, 'name': 'Diana Prince', 'stagename': 'Wonder Woman', 'powers': 'Superhuman strength, agility, and durability. Wields the Lasso of Truth and indestructible bracelets.'}\n",
      "{'id': 21, 'rating': 8, 'name': 'Maxwell Jordan', 'stagename': 'Green Lightning', 'powers': 'Control over electricity, super speed, and flight.'}\n",
      "{'id': 22, 'rating': 7, 'name': 'Sarah Knight', 'stagename': 'Shadow Panther', 'powers': 'Enhanced agility, night vision, and stealth capabilities.'}\n",
      "{'id': 23, 'rating': 8, 'name': 'Alex Summers', 'stagename': 'Solar Flare', 'powers': 'Ability to absorb and project solar energy.'}\n",
      "{'id': 24, 'rating': 9, 'name': 'Lily Huang', 'stagename': 'Mystic Dragon', 'powers': 'Dragon-like abilities, fire breath, flight, and super strength.'}\n",
      "{'id': 25, 'rating': 7, 'name': 'Marcus Stone', 'stagename': 'Terra Firma', 'powers': 'Earth manipulation and super durability.'}\n",
      "{'id': 26, 'rating': 8, 'name': 'Emily Frost', 'stagename': 'Ice Queen', 'powers': 'Ice manipulation and creation, cold resistance.'}\n",
      "{'id': 27, 'rating': 7, 'name': 'Kevin Blaze', 'stagename': 'Inferno', 'powers': 'Fire manipulation and heat resistance.'}\n",
      "{'id': 28, 'rating': 9, 'name': 'Zoe Lightwood', 'stagename': 'Starlight', 'powers': 'Light manipulation, energy projection, and flight.'}\n",
      "{'id': 29, 'rating': 8, 'name': 'Jason Pierce', 'stagename': 'Steel Hawk', 'powers': 'Mechanical wings for flight, enhanced vision, and metal manipulation.'}\n",
      "{'id': 30, 'rating': 9, 'name': 'Laura Grey', 'stagename': 'Quantum', 'powers': 'Teleportation, time manipulation.'}\n",
      "{'id': 31, 'rating': 7, 'name': 'Aaron Fox', 'stagename': 'Wild Spirit', 'powers': 'Animal communication, shape-shifting into animals.'}\n",
      "{'id': 32, 'rating': 8, 'name': 'Nina Santos', 'stagename': 'Thunderbird', 'powers': 'Weather manipulation, flight, electrical generation.'}\n",
      "{'id': 33, 'rating': 8, 'name': 'Kyle Rhodes', 'stagename': 'Phantom Walker', 'powers': 'Intangibility, invisibility, and spectral movement.'}\n",
      "{'id': 34, 'rating': 7, 'name': 'Amber Lee', 'stagename': 'Crimson Archer', 'powers': 'Master archer with enhanced reflexes and agility.'}\n",
      "{'id': 35, 'rating': 8, 'name': 'Felix Grant', 'stagename': 'Nightblade', 'powers': 'Master swordsman, enhanced senses, and shadow manipulation.'}\n",
      "{'id': 36}\n",
      "{'id': 89, 'rating': 10, 'name': 'Joy Ngugi', 'stagename': 'Iron Lady', 'powers': 'She is cool, she can iron'}\n"
     ]
    }
   ],
   "source": [
    "if response.status_code == 200:\n",
    "    marvelstars = response.json()\n",
    "    print(\"Fetched Marvel Stars:\")\n",
    "    for star in marvelstars:\n",
    "        print(star)\n",
    "else:\n",
    "    print(f\"Failed to fetch data. Status code: {response.status_code}\")"
   ]
  },
  {
   "cell_type": "code",
   "execution_count": 19,
   "metadata": {},
   "outputs": [
    {
     "name": "stdout",
     "output_type": "stream",
     "text": [
      "New Marvel Star added successfully.\n"
     ]
    }
   ],
   "source": [
    "# Add a new Marvel star (POST request)\n",
    "new_star = {\n",
    "    \"id\": 73,\n",
    "    \"rating\": 1,\n",
    "    \"name\": \"Ngugu Wa Thiongo\",\n",
    "    \"stagename\": \"Thanos\",\n",
    "    \"powers\": \"Snaps and annoys people\"\n",
    "}\n",
    "\n",
    "response = requests.post(api_url, json=new_star)\n",
    "\n",
    "if response.status_code == 201:\n",
    "    print(\"New Marvel Star added successfully.\")\n",
    "else:\n",
    "    print(f\"Failed to add new Marvel Star. Status code: {response.status_code}\")\n"
   ]
  },
  {
   "cell_type": "code",
   "execution_count": 21,
   "metadata": {},
   "outputs": [
    {
     "name": "stdout",
     "output_type": "stream",
     "text": [
      "Marvel Star updated successfully.\n"
     ]
    }
   ],
   "source": [
    "# Edit an existing Marvel star (PUT request)\n",
    "updated_star = {\n",
    "      \"id\": 3,\n",
    "      \"rating\": 10,\n",
    "      \"name\": \"Natasha Romanoff\",\n",
    "      \"stagename\": \"Black Widow\",\n",
    "      \"powers\": \"Expert martial artist, marksmanship, and hand-to-hand combat. Skilled spy and master of espionage.\"\n",
    "    }\n",
    "\n",
    "response = requests.put(api_url + \"/3\", json=updated_star)\n",
    "\n",
    "if response.status_code == 200:\n",
    "    print(\"Marvel Star updated successfully.\")\n",
    "else:\n",
    "    print(f\"Failed to update Marvel Star. Status code: {response.status_code}\")\n"
   ]
  },
  {
   "cell_type": "code",
   "execution_count": 22,
   "metadata": {},
   "outputs": [
    {
     "name": "stdout",
     "output_type": "stream",
     "text": [
      "Marvel Star with ID 23 deleted successfully.\n"
     ]
    }
   ],
   "source": [
    "# Delete a Marvel star by ID (DELETE request)\n",
    "star_id_to_delete = 23\n",
    "\n",
    "response = requests.delete(f\"{api_url}/{star_id_to_delete}\")\n",
    "if response.status_code == 200:\n",
    "    print(f\"Marvel Star with ID {star_id_to_delete} deleted successfully.\")\n",
    "else:\n",
    "    print(f\"Failed to delete Marvel Star by ID. Status code: {response.status_code}\")"
   ]
  }
 ],
 "metadata": {
  "kernelspec": {
   "display_name": "python",
   "language": "python",
   "name": "python3"
  },
  "language_info": {
   "codemirror_mode": {
    "name": "ipython",
    "version": 3
   },
   "file_extension": ".py",
   "mimetype": "text/x-python",
   "name": "python",
   "nbconvert_exporter": "python",
   "pygments_lexer": "ipython3",
   "version": "3.9.6"
  }
 },
 "nbformat": 4,
 "nbformat_minor": 2
}
